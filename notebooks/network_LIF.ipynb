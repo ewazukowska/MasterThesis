{
 "cells": [
  {
   "cell_type": "code",
   "id": "initial_id",
   "metadata": {
    "collapsed": true,
    "ExecuteTime": {
     "end_time": "2025-09-09T23:17:34.018603Z",
     "start_time": "2025-09-09T23:17:32.202081Z"
    }
   },
   "source": [
    "from brian2 import *\n",
    "import pandas as pd\n",
    "\n",
    "start_scope()\n",
    "defaultclock.dt =  1*ms\n"
   ],
   "outputs": [
    {
     "name": "stderr",
     "output_type": "stream",
     "text": [
      "/Users/ewa/Desktop/magisterka/MEAanalysis/.venv/lib/python3.11/site-packages/_distutils_hack/__init__.py:15: UserWarning: Distutils was imported before Setuptools, but importing Setuptools also replaces the `distutils` module in `sys.modules`. This may lead to undesirable behaviors or errors. To avoid these issues, avoid using distutils directly, ensure that setuptools is installed in the traditional way (e.g. not an editable install), and/or make sure that setuptools is always imported before distutils.\n",
      "  warnings.warn(\n",
      "/Users/ewa/Desktop/magisterka/MEAanalysis/.venv/lib/python3.11/site-packages/_distutils_hack/__init__.py:30: UserWarning: Setuptools is replacing distutils. Support for replacing an already imported distutils is deprecated. In the future, this condition will fail. Register concerns at https://github.com/pypa/setuptools/issues/new?template=distutils-deprecation.yml\n",
      "  warnings.warn(\n"
     ]
    }
   ],
   "execution_count": 1
  },
  {
   "metadata": {
    "ExecuteTime": {
     "end_time": "2025-09-09T23:17:41.463610Z",
     "start_time": "2025-09-09T23:17:34.020806Z"
    }
   },
   "cell_type": "code",
   "source": [
    "path = \"../data/spike_matrix.csv\"\n",
    "df = pd.read_csv(path, header=0)\n",
    "\n",
    "tcol = df.iloc[:, 0].to_numpy(dtype=np.float32)\n",
    "X = df.iloc[:, 1:].to_numpy(dtype=bool)\n",
    "del df\n",
    "\n",
    "T, N = X.shape\n",
    "print(f\"T (time bins): {T}, N (neurons): {N}\")"
   ],
   "id": "5b7bab87e6f3086a",
   "outputs": [
    {
     "name": "stdout",
     "output_type": "stream",
     "text": [
      "T (time bins): 1800001, N (neurons): 50\n"
     ]
    }
   ],
   "execution_count": 2
  },
  {
   "metadata": {
    "ExecuteTime": {
     "end_time": "2025-09-09T23:17:41.471424Z",
     "start_time": "2025-09-09T23:17:41.465364Z"
    }
   },
   "cell_type": "code",
   "source": [
    "simulation_duration = T * defaultclock.dt\n",
    "\n",
    "Cm   = 1*pF     # pojemność błony\n",
    "gL   = 10*nS      # przewodność wycieku\n",
    "EL   = -70*mV     # potencjał spoczynkowy\n",
    "VT   = -50*mV     # próg\n",
    "Vr   = -65*mV     # reset\n",
    "tau_ref = 5*ms    # okres refrakcji\n",
    "Iext = 200*pA     # prąd zewnętrzny\n",
    "\n",
    "# STDP\n",
    "taupre = 20*ms\n",
    "taupost = 20*ms\n",
    "dApre = 0.01\n",
    "dApost = -dApre*1.05\n"
   ],
   "id": "8d483a4f15a488c5",
   "outputs": [],
   "execution_count": 3
  },
  {
   "metadata": {
    "ExecuteTime": {
     "end_time": "2025-09-09T23:17:41.819937Z",
     "start_time": "2025-09-09T23:17:41.473957Z"
    }
   },
   "cell_type": "code",
   "source": [
    "#SpikeGeneratorGroup\n",
    "bin_idx, neuron_idx = np.nonzero(X)  # Wszystkie spiki\n",
    "spike_times = (bin_idx.astype(np.int64)) * ms\n",
    "spike_indices = neuron_idx.astype(np.int32)\n",
    "G = SpikeGeneratorGroup(N, indices=spike_indices, times=spike_times)"
   ],
   "id": "3f97eb493c2a954d",
   "outputs": [],
   "execution_count": 4
  },
  {
   "metadata": {
    "ExecuteTime": {
     "end_time": "2025-09-09T23:17:41.834675Z",
     "start_time": "2025-09-09T23:17:41.821202Z"
    }
   },
   "cell_type": "code",
   "source": [
    "#neurony\n",
    "eqs = '''\n",
    "dv/dt = (-gL*(v-EL) + Iext) / Cm : volt (unless refractory)\n",
    "'''\n",
    "\n",
    "neurons = NeuronGroup(N, eqs, threshold='v>VT', reset='v=Vr',\n",
    "                refractory=tau_ref, method='euler')\n",
    "# inicjujemy zmienne \n",
    "neurons.v = EL\n",
    "\n",
    "#monitorowanie\n",
    "neurons_monitor = SpikeMonitor(neurons)"
   ],
   "id": "62a085d8d1d6641b",
   "outputs": [],
   "execution_count": 5
  },
  {
   "metadata": {
    "ExecuteTime": {
     "end_time": "2025-09-09T23:17:41.837619Z",
     "start_time": "2025-09-09T23:17:41.835666Z"
    }
   },
   "cell_type": "code",
   "source": [
    "# synapse = Synapses(G, neurons,\n",
    "#                    model='''s: volt''',\n",
    "#                    on_pre='v_m += s')\n",
    "# synapse.connect(j='i')\n",
    "# synapse.s = 100. * mV"
   ],
   "id": "22506a9c86c362cd",
   "outputs": [],
   "execution_count": 6
  },
  {
   "metadata": {
    "ExecuteTime": {
     "end_time": "2025-09-09T23:17:42.834283Z",
     "start_time": "2025-09-09T23:17:41.838674Z"
    }
   },
   "cell_type": "code",
   "source": [
    "S = Synapses(G, neurons, \n",
    "             '''\n",
    "             w : 1\n",
    "             apre : 1\n",
    "             apost : 1\n",
    "             ''',\n",
    "             on_pre='''\n",
    "             v_post += w*mV\n",
    "             apre += dApre\n",
    "             w = clip(w + apost, 0, 1)\n",
    "             ''',\n",
    "             on_post='''\n",
    "             apost += dApost\n",
    "             w = clip(w + apre, 0, 1)\n",
    "             ''')\n",
    "S.connect(j='i')  \n",
    "S.w = 0.5"
   ],
   "id": "54de14c08fa27a9a",
   "outputs": [
    {
     "name": "stderr",
     "output_type": "stream",
     "text": [
      "WARNING    Cannot use Cython, a test compilation failed: Cython is not available (ImportError)\n",
      "Certain compiler configurations (e.g. clang in a conda environment on OS X) are known to be problematic. Note that you can switch the compiler by setting the 'CC' and 'CXX' environment variables. For example, you may want to try 'CC=gcc' and 'CXX=g++'. [brian2.codegen.runtime.cython_rt.cython_rt.failed_compile_test]\n",
      "INFO       Cannot use compiled code, falling back to the numpy code generation target. Note that this will likely be slower than using compiled code. Set the code generation to numpy manually to avoid this message:\n",
      "prefs.codegen.target = \"numpy\" [brian2.devices.device.codegen_fallback]\n"
     ]
    }
   ],
   "execution_count": 7
  },
  {
   "metadata": {
    "ExecuteTime": {
     "end_time": "2025-09-09T23:20:40.914239Z",
     "start_time": "2025-09-09T23:17:42.835662Z"
    }
   },
   "cell_type": "code",
   "source": "run(simulation_duration)",
   "id": "dcba06ce0ac7a1e4",
   "outputs": [],
   "execution_count": 8
  },
  {
   "metadata": {
    "ExecuteTime": {
     "end_time": "2025-09-09T23:21:45.825615Z",
     "start_time": "2025-09-09T23:21:20.918147Z"
    }
   },
   "cell_type": "code",
   "source": [
    "dt_s = 0.001   \n",
    "T_s = 1800             \n",
    "N = 50             \n",
    "T_bins = int(T_s / dt_s) \n",
    "\n",
    "raster = np.zeros((T_bins, N), dtype=int)\n",
    "\n",
    "t_s = np.array(neurons_monitor.t / second)  \n",
    "i_idx = np.array(neurons_monitor.i)       \n",
    "\n",
    "for idx, t in zip(i_idx, t_s):\n",
    "    tbin = int(np.floor(t / dt_s))\n",
    "    if tbin < T_bins:\n",
    "        raster[tbin, idx] = 1\n",
    "\n",
    "time_s = np.arange(T_bins) * dt_s\n",
    "df = pd.DataFrame(raster, columns=[f\"neuron_{i}\" for i in range(1, N+1)])\n",
    "df.insert(0, \"time_s\", time_s)"
   ],
   "id": "7fdf3c7c80918b09",
   "outputs": [],
   "execution_count": 10
  },
  {
   "metadata": {
    "ExecuteTime": {
     "end_time": "2025-09-09T23:22:04.942933Z",
     "start_time": "2025-09-09T23:21:45.827539Z"
    }
   },
   "cell_type": "code",
   "source": "df.to_csv(\"../data/spike_generated_LIF.csv\", index=True)",
   "id": "fb7db3c34bcdcbac",
   "outputs": [],
   "execution_count": 11
  },
  {
   "metadata": {
    "ExecuteTime": {
     "end_time": "2025-09-09T23:22:04.945576Z",
     "start_time": "2025-09-09T23:22:04.943984Z"
    }
   },
   "cell_type": "code",
   "source": "",
   "id": "413a6627c9d9a745",
   "outputs": [],
   "execution_count": 11
  }
 ],
 "metadata": {
  "kernelspec": {
   "display_name": "Python 3",
   "language": "python",
   "name": "python3"
  },
  "language_info": {
   "codemirror_mode": {
    "name": "ipython",
    "version": 2
   },
   "file_extension": ".py",
   "mimetype": "text/x-python",
   "name": "python",
   "nbconvert_exporter": "python",
   "pygments_lexer": "ipython2",
   "version": "2.7.6"
  }
 },
 "nbformat": 4,
 "nbformat_minor": 5
}
