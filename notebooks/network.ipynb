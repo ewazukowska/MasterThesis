{
 "cells": [
  {
   "cell_type": "code",
   "id": "initial_id",
   "metadata": {
    "collapsed": true,
    "ExecuteTime": {
     "end_time": "2025-09-09T18:49:41.837656Z",
     "start_time": "2025-09-09T18:49:41.829739Z"
    }
   },
   "source": [
    "from brian2 import *\n",
    "import pandas as pd\n",
    "\n",
    "start_scope()\n",
    "defaultclock.dt =  1*ms\n"
   ],
   "outputs": [],
   "execution_count": 26
  },
  {
   "metadata": {
    "ExecuteTime": {
     "end_time": "2025-09-09T18:49:44.293124Z",
     "start_time": "2025-09-09T18:49:41.838961Z"
    }
   },
   "cell_type": "code",
   "source": [
    "path = \"../data/spike_matrix.csv\"\n",
    "df = pd.read_csv(path, header=0)\n",
    "\n",
    "tcol = df.iloc[:, 0].to_numpy(dtype=np.float32)\n",
    "X = df.iloc[:, 1:].to_numpy(dtype=bool)\n",
    "del df\n",
    "\n",
    "T, N = X.shape\n",
    "print(f\"T (time bins): {T}, N (neurons): {N}\")"
   ],
   "id": "5b7bab87e6f3086a",
   "outputs": [
    {
     "name": "stdout",
     "output_type": "stream",
     "text": [
      "T (time bins): 1800001, N (neurons): 50\n"
     ]
    }
   ],
   "execution_count": 27
  },
  {
   "metadata": {
    "ExecuteTime": {
     "end_time": "2025-09-09T18:49:44.297567Z",
     "start_time": "2025-09-09T18:49:44.294064Z"
    }
   },
   "cell_type": "code",
   "source": [
    "simulation_duration = T * defaultclock.dt\n",
    "\n",
    "# parametry dla neuronów i synaps\n",
    "Cm = 200 *pF   # Membrane capacitance \n",
    "k = 0.04 /mV /mV # Nonlinear growth constant\n",
    "E_L = -70 * mV # Resting membrane potential\n",
    "v_t = -50 * mV # Threshold voltage\n",
    "E_m = -60 * mV  # Reference voltage (often same as E_L)\n",
    "a = 0.02 \n",
    "b = 0.02 * 1/mV\n",
    "c = -65 * mV\n",
    "d = 8 \n",
    "\n",
    "# STDP\n",
    "taupre = 20 * ms\n",
    "taupost = taupre\n",
    "gmax = 0.01\n",
    "dApre = 0.01\n",
    "dApost = -dApre * taupre / taupost * 1.05\n",
    "dApost *= gmax\n",
    "dApre *= gmax\n",
    "taux = 1000 * ms\n",
    "tauy = 200 * ms\n",
    "taus = 1 * ms\n"
   ],
   "id": "8d483a4f15a488c5",
   "outputs": [],
   "execution_count": 28
  },
  {
   "metadata": {
    "ExecuteTime": {
     "end_time": "2025-09-09T18:49:44.526184Z",
     "start_time": "2025-09-09T18:49:44.299125Z"
    }
   },
   "cell_type": "code",
   "source": [
    "#SpikeGeneratorGroup\n",
    "bin_idx, neuron_idx = np.nonzero(X)  # Wszystkie spiki\n",
    "spike_times = (bin_idx.astype(np.int64)) * ms\n",
    "spike_indices = neuron_idx.astype(np.int32)\n",
    "G = SpikeGeneratorGroup(N, indices=spike_indices, times=spike_times)"
   ],
   "id": "3f97eb493c2a954d",
   "outputs": [],
   "execution_count": 29
  },
  {
   "metadata": {
    "ExecuteTime": {
     "end_time": "2025-09-09T18:49:44.534065Z",
     "start_time": "2025-09-09T18:49:44.526967Z"
    }
   },
   "cell_type": "code",
   "source": [
    "#neurony\n",
    "eqs = \"\"\"\n",
    "dv_m/dt = ((k*(v_m - E_L)*(v_m - v_t) - u + I_syn) /Cm /ms) : volt\n",
    "du/dt = a*(b*(v_m - E_m) - u)/ms : 1\n",
    "I_syn : 1\n",
    "\"\"\"\n",
    "neurons = NeuronGroup(N, eqs, threshold='v_m >= v_t', reset='v_m = c; u += d', method='euler')\n",
    "\n",
    "# inicjujemy zmienne \n",
    "neurons.v_m = c\n",
    "neurons.u = b * neurons.v_m\n",
    "\n",
    "#monitorowanie\n",
    "neurons_monitor = SpikeMonitor(neurons)"
   ],
   "id": "62a085d8d1d6641b",
   "outputs": [],
   "execution_count": 30
  },
  {
   "metadata": {
    "ExecuteTime": {
     "end_time": "2025-09-09T18:49:44.550471Z",
     "start_time": "2025-09-09T18:49:44.534833Z"
    }
   },
   "cell_type": "code",
   "source": [
    "synapse = Synapses(G, neurons,\n",
    "                   model='''s: volt''',\n",
    "                   on_pre='v_m += s')\n",
    "synapse.connect(j='i')\n",
    "synapse.s = 100. * mV"
   ],
   "id": "22506a9c86c362cd",
   "outputs": [],
   "execution_count": 31
  },
  {
   "metadata": {
    "ExecuteTime": {
     "end_time": "2025-09-09T18:49:44.553551Z",
     "start_time": "2025-09-09T18:49:44.551303Z"
    }
   },
   "cell_type": "code",
   "source": [
    "# Synapsy z STDP\n",
    "synapse_stdp = Synapses(neurons, neurons,\n",
    "                        model='''\n",
    "                            mode : 1\n",
    "                            dx/dt = -x / taux : 1 (clock-driven)\n",
    "                            dy/dt = -y / tauy : 1 (clock-driven)\n",
    "                            ds/dt = mode * x * y / taus : 1 (clock-driven)\n",
    "                            dApre/dt = -Apre / taupre : 1 (event-driven)\n",
    "                            dApost/dt = -Apost / taupost : 1 (event-driven)\n",
    "                        ''',\n",
    "                        on_pre='''\n",
    "                            u += s\n",
    "                            Apre += dApre\n",
    "                            x = clip(x + mode * Apost, -gmax, gmax)\n",
    "                            s = clip(s + (1 - mode) * Apost, -gmax, gmax)\n",
    "                        ''',\n",
    "                        on_post='''\n",
    "                            Apost += dApost\n",
    "                            x = clip(x + mode * Apre, -gmax, gmax)\n",
    "                            s = clip(s + (1 - mode) * Apre, -gmax, gmax)\n",
    "                        ''', \n",
    "                        method='euler')\n",
    "\n",
    "synapse_stdp.connect(j='i')\n",
    "synapse_stdp.mode = 1\n",
    "synapse_stdp.s = 1e-10  # wagi początkowe\n",
    "synapse_stdp.x = 1e-10 \n",
    "synapse_stdp.y = 0\n"
   ],
   "id": "54de14c08fa27a9a",
   "outputs": [],
   "execution_count": 32
  },
  {
   "metadata": {
    "ExecuteTime": {
     "end_time": "2025-09-09T18:51:17.939286Z",
     "start_time": "2025-09-09T18:49:44.554395Z"
    }
   },
   "cell_type": "code",
   "source": "run(simulation_duration)",
   "id": "dcba06ce0ac7a1e4",
   "outputs": [],
   "execution_count": 33
  },
  {
   "metadata": {
    "ExecuteTime": {
     "end_time": "2025-09-09T18:51:18.200468Z",
     "start_time": "2025-09-09T18:51:17.940079Z"
    }
   },
   "cell_type": "code",
   "source": [
    "neurons_indices, neurons_times = neurons_monitor.it\n",
    "plot(neurons_times, neurons_indices, 'ob')"
   ],
   "id": "ab65872a1da124db",
   "outputs": [
    {
     "data": {
      "text/plain": [
       "[<matplotlib.lines.Line2D at 0x140040650>]"
      ]
     },
     "execution_count": 34,
     "metadata": {},
     "output_type": "execute_result"
    },
    {
     "data": {
      "text/plain": [
       "<Figure size 640x480 with 1 Axes>"
      ],
      "image/png": "[encoded data removed]"
     },
     "metadata": {},
     "output_type": "display_data"
    }
   ],
   "execution_count": 34
  },
  {
   "metadata": {
    "ExecuteTime": {
     "end_time": "2025-09-09T18:51:18.420292Z",
     "start_time": "2025-09-09T18:51:18.202801Z"
    }
   },
   "cell_type": "code",
   "source": [
    "dt_s = 0.001   \n",
    "T_s = 1800             \n",
    "N = 50             \n",
    "T_bins = int(T_s / dt_s) \n",
    "\n",
    "raster = np.zeros((T_bins, N), dtype=int)\n",
    "\n",
    "t_s = np.array(neurons_monitor.t / second)  \n",
    "i_idx = np.array(neurons_monitor.i)       \n",
    "\n",
    "for idx, t in zip(i_idx, t_s):\n",
    "    tbin = int(np.floor(t / dt_s))\n",
    "    if tbin < T_bins:\n",
    "        raster[tbin, idx] = 1\n",
    "\n",
    "time_s = np.arange(T_bins) * dt_s\n",
    "df = pd.DataFrame(raster, columns=[f\"neuron_{i}\" for i in range(1, N+1)])\n",
    "df.insert(0, \"time_s\", time_s)"
   ],
   "id": "7fdf3c7c80918b09",
   "outputs": [],
   "execution_count": 35
  },
  {
   "metadata": {
    "ExecuteTime": {
     "end_time": "2025-09-09T18:51:30.607080Z",
     "start_time": "2025-09-09T18:51:18.421071Z"
    }
   },
   "cell_type": "code",
   "source": "df.to_csv(\"../data/spike_generated.csv\", index=True)",
   "id": "fb7db3c34bcdcbac",
   "outputs": [],
   "execution_count": 36
  }
 ],
 "metadata": {
  "kernelspec": {
   "display_name": "Python 3",
   "language": "python",
   "name": "python3"
  },
  "language_info": {
   "codemirror_mode": {
    "name": "ipython",
    "version": 2
   },
   "file_extension": ".py",
   "mimetype": "text/x-python",
   "name": "python",
   "nbconvert_exporter": "python",
   "pygments_lexer": "ipython2",
   "version": "2.7.6"
  }
 },
 "nbformat": 4,
 "nbformat_minor": 5
}
